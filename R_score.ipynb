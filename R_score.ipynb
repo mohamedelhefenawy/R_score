{
 "cells": [
  {
   "cell_type": "markdown",
   "metadata": {},
   "source": [
    "##R_score"
   ]
  },
  {
   "cell_type": "code",
   "execution_count": null,
   "metadata": {},
   "outputs": [],
   "source": [
    "train_score = rf.score(X_train, y_train)\n",
    "oob_score = rf.oob_score_\n",
    "Adjusted_R2_train = 1 - (1-rf.score(X_train, y_train))*(len(y_train)-1)/(len(y_train)-X_train.shape[1]-1)\n",
    "Adjusted_R2_test = 1 - (1-rf.score(X_test, y_test))*(len(y_test)-1)/(len(y_test)-X_test.shape[1]-1)\n",
    "\n",
    "print('Train Adjusted R2: %', Adjusted_R2_train*100)\n",
    "print('Test Adjusted R2: %', Adjusted_R2_test*100)\n",
    "print('OOB Score: %', oob_score*100)"
   ]
  }
 ],
 "metadata": {
  "kernelspec": {
   "display_name": "Python 3.9.7 64-bit",
   "language": "python",
   "name": "python3"
  },
  "language_info": {
   "name": "python",
   "version": "3.9.7"
  },
  "orig_nbformat": 4,
  "vscode": {
   "interpreter": {
    "hash": "4bdc882ff8835024ce2b8a9bc750600d60d204b2c7b3b3bea469d94de9933f98"
   }
  }
 },
 "nbformat": 4,
 "nbformat_minor": 2
}
